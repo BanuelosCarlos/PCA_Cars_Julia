{
 "cells": [
  {
   "cell_type": "markdown",
   "metadata": {},
   "source": [
    "# Dimensionality Reduction using Julia "
   ]
  },
  {
   "cell_type": "code",
   "execution_count": 7,
   "metadata": {},
   "outputs": [],
   "source": [
    "using MultivariateStats, Plots, Random, VegaDatasets, DataFrames"
   ]
  },
  {
   "cell_type": "code",
   "execution_count": 10,
   "metadata": {},
   "outputs": [
    {
     "data": {
      "text/html": [
       "<div class=\"data-frame\"><p>392 rows × 9 columns (omitted printing of 4 columns)</p><table class=\"data-frame\"><thead><tr><th></th><th>Name</th><th>Miles_per_Gallon</th><th>Cylinders</th><th>Displacement</th><th>Horsepower</th></tr><tr><th></th><th title=\"String\">String</th><th title=\"Float64\">Float64</th><th title=\"Int64\">Int64</th><th title=\"Float64\">Float64</th><th title=\"Int64\">Int64</th></tr></thead><tbody><tr><th>1</th><td>chevrolet chevelle malibu</td><td>18.0</td><td>8</td><td>307.0</td><td>130</td></tr><tr><th>2</th><td>buick skylark 320</td><td>15.0</td><td>8</td><td>350.0</td><td>165</td></tr><tr><th>3</th><td>plymouth satellite</td><td>18.0</td><td>8</td><td>318.0</td><td>150</td></tr><tr><th>4</th><td>amc rebel sst</td><td>16.0</td><td>8</td><td>304.0</td><td>150</td></tr><tr><th>5</th><td>ford torino</td><td>17.0</td><td>8</td><td>302.0</td><td>140</td></tr><tr><th>6</th><td>ford galaxie 500</td><td>15.0</td><td>8</td><td>429.0</td><td>198</td></tr><tr><th>7</th><td>chevrolet impala</td><td>14.0</td><td>8</td><td>454.0</td><td>220</td></tr><tr><th>8</th><td>plymouth fury iii</td><td>14.0</td><td>8</td><td>440.0</td><td>215</td></tr><tr><th>9</th><td>pontiac catalina</td><td>14.0</td><td>8</td><td>455.0</td><td>225</td></tr><tr><th>10</th><td>amc ambassador dpl</td><td>15.0</td><td>8</td><td>390.0</td><td>190</td></tr><tr><th>11</th><td>dodge challenger se</td><td>15.0</td><td>8</td><td>383.0</td><td>170</td></tr><tr><th>12</th><td>plymouth &apos;cuda 340</td><td>14.0</td><td>8</td><td>340.0</td><td>160</td></tr><tr><th>13</th><td>chevrolet monte carlo</td><td>15.0</td><td>8</td><td>400.0</td><td>150</td></tr><tr><th>14</th><td>buick estate wagon (sw)</td><td>14.0</td><td>8</td><td>455.0</td><td>225</td></tr><tr><th>15</th><td>toyota corona mark ii</td><td>24.0</td><td>4</td><td>113.0</td><td>95</td></tr><tr><th>16</th><td>plymouth duster</td><td>22.0</td><td>6</td><td>198.0</td><td>95</td></tr><tr><th>17</th><td>amc hornet</td><td>18.0</td><td>6</td><td>199.0</td><td>97</td></tr><tr><th>18</th><td>ford maverick</td><td>21.0</td><td>6</td><td>200.0</td><td>85</td></tr><tr><th>19</th><td>datsun pl510</td><td>27.0</td><td>4</td><td>97.0</td><td>88</td></tr><tr><th>20</th><td>volkswagen 1131 deluxe sedan</td><td>26.0</td><td>4</td><td>97.0</td><td>46</td></tr><tr><th>21</th><td>peugeot 504</td><td>25.0</td><td>4</td><td>110.0</td><td>87</td></tr><tr><th>22</th><td>audi 100 ls</td><td>24.0</td><td>4</td><td>107.0</td><td>90</td></tr><tr><th>23</th><td>saab 99e</td><td>25.0</td><td>4</td><td>104.0</td><td>95</td></tr><tr><th>24</th><td>bmw 2002</td><td>26.0</td><td>4</td><td>121.0</td><td>113</td></tr><tr><th>&vellip;</th><td>&vellip;</td><td>&vellip;</td><td>&vellip;</td><td>&vellip;</td><td>&vellip;</td></tr></tbody></table></div>"
      ],
      "text/latex": [
       "\\begin{tabular}{r|cccccc}\n",
       "\t& Name & Miles\\_per\\_Gallon & Cylinders & Displacement & Horsepower & \\\\\n",
       "\t\\hline\n",
       "\t& String & Float64 & Int64 & Float64 & Int64 & \\\\\n",
       "\t\\hline\n",
       "\t1 & chevrolet chevelle malibu & 18.0 & 8 & 307.0 & 130 & $\\dots$ \\\\\n",
       "\t2 & buick skylark 320 & 15.0 & 8 & 350.0 & 165 & $\\dots$ \\\\\n",
       "\t3 & plymouth satellite & 18.0 & 8 & 318.0 & 150 & $\\dots$ \\\\\n",
       "\t4 & amc rebel sst & 16.0 & 8 & 304.0 & 150 & $\\dots$ \\\\\n",
       "\t5 & ford torino & 17.0 & 8 & 302.0 & 140 & $\\dots$ \\\\\n",
       "\t6 & ford galaxie 500 & 15.0 & 8 & 429.0 & 198 & $\\dots$ \\\\\n",
       "\t7 & chevrolet impala & 14.0 & 8 & 454.0 & 220 & $\\dots$ \\\\\n",
       "\t8 & plymouth fury iii & 14.0 & 8 & 440.0 & 215 & $\\dots$ \\\\\n",
       "\t9 & pontiac catalina & 14.0 & 8 & 455.0 & 225 & $\\dots$ \\\\\n",
       "\t10 & amc ambassador dpl & 15.0 & 8 & 390.0 & 190 & $\\dots$ \\\\\n",
       "\t11 & dodge challenger se & 15.0 & 8 & 383.0 & 170 & $\\dots$ \\\\\n",
       "\t12 & plymouth 'cuda 340 & 14.0 & 8 & 340.0 & 160 & $\\dots$ \\\\\n",
       "\t13 & chevrolet monte carlo & 15.0 & 8 & 400.0 & 150 & $\\dots$ \\\\\n",
       "\t14 & buick estate wagon (sw) & 14.0 & 8 & 455.0 & 225 & $\\dots$ \\\\\n",
       "\t15 & toyota corona mark ii & 24.0 & 4 & 113.0 & 95 & $\\dots$ \\\\\n",
       "\t16 & plymouth duster & 22.0 & 6 & 198.0 & 95 & $\\dots$ \\\\\n",
       "\t17 & amc hornet & 18.0 & 6 & 199.0 & 97 & $\\dots$ \\\\\n",
       "\t18 & ford maverick & 21.0 & 6 & 200.0 & 85 & $\\dots$ \\\\\n",
       "\t19 & datsun pl510 & 27.0 & 4 & 97.0 & 88 & $\\dots$ \\\\\n",
       "\t20 & volkswagen 1131 deluxe sedan & 26.0 & 4 & 97.0 & 46 & $\\dots$ \\\\\n",
       "\t21 & peugeot 504 & 25.0 & 4 & 110.0 & 87 & $\\dots$ \\\\\n",
       "\t22 & audi 100 ls & 24.0 & 4 & 107.0 & 90 & $\\dots$ \\\\\n",
       "\t23 & saab 99e & 25.0 & 4 & 104.0 & 95 & $\\dots$ \\\\\n",
       "\t24 & bmw 2002 & 26.0 & 4 & 121.0 & 113 & $\\dots$ \\\\\n",
       "\t$\\dots$ & $\\dots$ & $\\dots$ & $\\dots$ & $\\dots$ & $\\dots$ &  \\\\\n",
       "\\end{tabular}\n"
      ],
      "text/plain": [
       "\u001b[1m392×9 DataFrame\u001b[0m\n",
       "\u001b[1m Row \u001b[0m│\u001b[1m Name                              \u001b[0m\u001b[1m Miles_per_Gallon \u001b[0m\u001b[1m Cylinders \u001b[0m\u001b[1m Displac\u001b[0m ⋯\n",
       "\u001b[1m     \u001b[0m│\u001b[90m String                            \u001b[0m\u001b[90m Float64          \u001b[0m\u001b[90m Int64     \u001b[0m\u001b[90m Float64\u001b[0m ⋯\n",
       "─────┼──────────────────────────────────────────────────────────────────────────\n",
       "   1 │ chevrolet chevelle malibu                      18.0          8          ⋯\n",
       "   2 │ buick skylark 320                              15.0          8\n",
       "   3 │ plymouth satellite                             18.0          8\n",
       "   4 │ amc rebel sst                                  16.0          8\n",
       "   5 │ ford torino                                    17.0          8          ⋯\n",
       "   6 │ ford galaxie 500                               15.0          8\n",
       "   7 │ chevrolet impala                               14.0          8\n",
       "   8 │ plymouth fury iii                              14.0          8\n",
       "  ⋮  │                 ⋮                         ⋮              ⋮           ⋮  ⋱\n",
       " 386 │ dodge charger 2.2                              36.0          4          ⋯\n",
       " 387 │ chevrolet camaro                               27.0          4\n",
       " 388 │ ford mustang gl                                27.0          4\n",
       " 389 │ vw pickup                                      44.0          4\n",
       " 390 │ dodge rampage                                  32.0          4          ⋯\n",
       " 391 │ ford ranger                                    28.0          4\n",
       " 392 │ chevy s-10                                     31.0          4\n",
       "\u001b[36m                                                  6 columns and 377 rows omitted\u001b[0m"
      ]
     },
     "metadata": {},
     "output_type": "display_data"
    }
   ],
   "source": [
    "DF = DataFrame(VegaDatasets.dataset(\"cars\"))\n",
    "dropmissing!(DF)"
   ]
  },
  {
   "cell_type": "code",
   "execution_count": 21,
   "metadata": {},
   "outputs": [
    {
     "name": "stdout",
     "output_type": "stream",
     "text": [
      "describe(DF) = 9×7 DataFrame\n",
      " Row │ variable          mean     min                      median  max               nmissing  eltype\n",
      "     │ Symbol            Union…   Any                      Union…  Any               Int64     DataType\n",
      "─────┼──────────────────────────────────────────────────────────────────────────────────────────────────\n",
      "   1 │ Name                       amc ambassador brougham          vw rabbit custom         0  String\n",
      "   2 │ Miles_per_Gallon  23.4459  9.0                      22.75   46.6                     0  Float64\n",
      "   3 │ Cylinders         5.47194  3                        4.0     8                        0  Int64\n",
      "   4 │ Displacement      194.412  68.0                     151.0   455.0                    0  Float64\n",
      "   5 │ Horsepower        104.469  46                       93.5    230                      0  Int64\n",
      "   6 │ Weight_in_lbs     2977.58  1613                     2803.5  5140                     0  Int64\n",
      "   7 │ Acceleration      15.5413  8.0                      15.5    24.8                     0  Float64\n",
      "   8 │ Year                       1970-01-01                       1982-01-01               0  String\n",
      "   9 │ Origin                     Europe                           USA                      0  String\n"
     ]
    },
    {
     "data": {
      "text/html": [
       "<p>DataFrameRow (8 columns)</p><div class=\"data-frame\"><table class=\"data-frame\"><thead><tr><th></th><th>Miles_per_Gallon</th><th>Cylinders</th><th>Displacement</th><th>Horsepower</th><th>Weight_in_lbs</th><th>Acceleration</th></tr><tr><th></th><th title=\"Float64\">Float64</th><th title=\"Int64\">Int64</th><th title=\"Float64\">Float64</th><th title=\"Int64\">Int64</th><th title=\"Int64\">Int64</th><th title=\"Float64\">Float64</th></tr></thead><tbody><tr><th>1</th><td>18.0</td><td>8</td><td>307.0</td><td>130</td><td>3504</td><td>12.0</td></tr></tbody></table></div>"
      ],
      "text/latex": [
       "\\begin{tabular}{r|ccccccc}\n",
       "\t& Miles\\_per\\_Gallon & Cylinders & Displacement & Horsepower & Weight\\_in\\_lbs & Acceleration & \\\\\n",
       "\t\\hline\n",
       "\t& Float64 & Int64 & Float64 & Int64 & Int64 & Float64 & \\\\\n",
       "\t\\hline\n",
       "\t1 & 18.0 & 8 & 307.0 & 130 & 3504 & 12.0 & $\\dots$ \\\\\n",
       "\\end{tabular}\n"
      ],
      "text/plain": [
       "\u001b[1mDataFrameRow\u001b[0m\n",
       "\u001b[1m Row \u001b[0m│\u001b[1m Miles_per_Gallon \u001b[0m\u001b[1m Cylinders \u001b[0m\u001b[1m Displacement \u001b[0m\u001b[1m Horsepower \u001b[0m\u001b[1m Weight_in_lbs \u001b[0m\u001b[1m A\u001b[0m ⋯\n",
       "\u001b[1m     \u001b[0m│\u001b[90m Float64          \u001b[0m\u001b[90m Int64     \u001b[0m\u001b[90m Float64      \u001b[0m\u001b[90m Int64      \u001b[0m\u001b[90m Int64         \u001b[0m\u001b[90m F\u001b[0m ⋯\n",
       "─────┼──────────────────────────────────────────────────────────────────────────\n",
       "   1 │             18.0          8         307.0         130           3504    ⋯\n",
       "\u001b[36m                                                               3 columns omitted\u001b[0m"
      ]
     },
     "metadata": {},
     "output_type": "display_data"
    }
   ],
   "source": [
    "names(DF)\n",
    "@show describe(DF)\n",
    "DF[1,2:end]"
   ]
  },
  {
   "cell_type": "code",
   "execution_count": 24,
   "metadata": {},
   "outputs": [
    {
     "data": {
      "text/plain": [
       "1×3 Matrix{String}:\n",
       " \"USA\"  \"Japan\"  \"Europe\""
      ]
     },
     "metadata": {},
     "output_type": "display_data"
    }
   ],
   "source": [
    "X = Matrix(DF[!,2:7])\n",
    "y = Vector{String}(DF.Origin)\n",
    "Origin = reshape(unique(DF.Origin), (1,3))"
   ]
  },
  {
   "cell_type": "code",
   "execution_count": 31,
   "metadata": {},
   "outputs": [
    {
     "data": {
      "text/plain": [
       "PCA(indim = 6, outdim = 1, principalratio = 0.9975535062891329)\n",
       "\n",
       "Pattern matrix (unstandardized loadings):\n",
       "────────────\n",
       "         PC1\n",
       "────────────\n",
       "1   -6.49968\n",
       "2    1.53388\n",
       "3   97.8372\n",
       "4   33.3426\n",
       "5  849.39\n",
       "6   -1.15758\n",
       "────────────\n",
       "\n",
       "Importance of components:\n",
       "────────────────────────────────────\n",
       "                                 PC1\n",
       "────────────────────────────────────\n",
       "SS Loadings (Eigenvalues)  7.32192e5\n",
       "Variance explained         0.997554\n",
       "Cumulative variance        0.997554\n",
       "Proportion explained       1.0\n",
       "Cumulative proportion      1.0\n",
       "────────────────────────────────────"
      ]
     },
     "metadata": {},
     "output_type": "display_data"
    }
   ],
   "source": [
    "model = fit(PCA,X',maxoutdim=5)"
   ]
  },
  {
   "cell_type": "code",
   "execution_count": 33,
   "metadata": {},
   "outputs": [
    {
     "ename": "UndefVarError",
     "evalue": "UndefVarError: transform not defined",
     "output_type": "error",
     "traceback": [
      "UndefVarError: transform not defined\n",
      "\n",
      "Stacktrace:\n",
      " [1] top-level scope\n",
      "   @ ~/Documents/JuliaProjects/PCA_Iris_Julia/PCA_UL.ipynb:1"
     ]
    }
   ],
   "source": [
    "X_transform = transform(model, X')"
   ]
  }
 ],
 "metadata": {
  "kernelspec": {
   "display_name": "Julia 1.7.3",
   "language": "julia",
   "name": "julia-1.7"
  },
  "language_info": {
   "file_extension": ".jl",
   "mimetype": "application/julia",
   "name": "julia",
   "version": "1.7.3"
  },
  "orig_nbformat": 4,
  "vscode": {
   "interpreter": {
    "hash": "916dbcbb3f70747c44a77c7bcd40155683ae19c65e1c03b4aa3499c5328201f1"
   }
  }
 },
 "nbformat": 4,
 "nbformat_minor": 2
}
